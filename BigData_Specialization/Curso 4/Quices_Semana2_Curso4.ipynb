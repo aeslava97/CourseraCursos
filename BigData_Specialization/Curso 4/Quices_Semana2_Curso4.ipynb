{
 "cells": [
  {
   "cell_type": "code",
   "execution_count": null,
   "metadata": {},
   "outputs": [],
   "source": [
    "from pyspark.sql import SQLContext\n",
    "sqlContext = SQLContext(sc)"
   ]
  },
  {
   "cell_type": "code",
   "execution_count": null,
   "metadata": {},
   "outputs": [],
   "source": [
    "df = sqlContext.read.load('file:///home/cloudera/Downloads/big-data-4/daily_weather.csv',format='com.databricks.spark.csv',header='true',inferSchema='true')"
   ]
  },
  {
   "cell_type": "code",
   "execution_count": null,
   "metadata": {},
   "outputs": [],
   "source": [
    "df.columns"
   ]
  },
  {
   "cell_type": "code",
   "execution_count": null,
   "metadata": {},
   "outputs": [],
   "source": [
    "#Sort desc\n",
    "from pyspark.sql.functions import desc\n",
    "df.sort(desc('avg_wind_speed_9am')).select('avg_wind_speed_9am').show(1)"
   ]
  },
  {
   "cell_type": "code",
   "execution_count": null,
   "metadata": {},
   "outputs": [],
   "source": [
    "#Max \n",
    "df.groupby().max('avg_wind_speed_9am').show()"
   ]
  },
  {
   "cell_type": "code",
   "execution_count": null,
   "metadata": {},
   "outputs": [],
   "source": [
    "#Get count of null values of single column in pyspark\n",
    "from pyspark.sql.functions import isnan, when, count, col\n",
    "\n",
    "df.select([count(when(col('rain_accumulation_9am').isNull(),True))]).show()"
   ]
  },
  {
   "cell_type": "code",
   "execution_count": null,
   "metadata": {},
   "outputs": [],
   "source": [
    "#Get correlation between two cols\n",
    "df.stat.corr('relative_humidity_9am', 'relative_humidity_3pm')"
   ]
  },
  {
   "cell_type": "code",
   "execution_count": null,
   "metadata": {},
   "outputs": [],
   "source": [
    "df.select('air_temp_9am').show()"
   ]
  },
  {
   "cell_type": "code",
   "execution_count": null,
   "metadata": {},
   "outputs": [],
   "source": [
    "#Get a max and then get other stuff, agg just gets 1 column\n",
    "data = df.agg({'max_wind_speed_9am':'max'}).alias('max_wind_speed_9am')\n",
    "data = data.select(col('max(max_wind_speed_9am)').alias('max_wind_speed_9am'))\n",
    "data_joined = df.join(data, 'max_wind_speed_9am').select('max_wind_speed_9am','max_wind_direction_9am')\n",
    "data_joined.show()"
   ]
  },
  {
   "cell_type": "code",
   "execution_count": null,
   "metadata": {},
   "outputs": [],
   "source": [
    "#Drop missing values\n",
    "removedNADf = df.na.drop()"
   ]
  },
  {
   "cell_type": "code",
   "execution_count": null,
   "metadata": {},
   "outputs": [],
   "source": [
    "#If we remove all missing values from the data, how many air pressure at 9am measurements have values between 911.736 and 914.67?\n",
    "removedNADf.filter('air_pressure_9am > 911.736 and air_pressure_9am < 914.67').count()"
   ]
  },
  {
   "cell_type": "code",
   "execution_count": null,
   "metadata": {},
   "outputs": [],
   "source": [
    "#If we impute the missing values with the minimum value, how many air temperature at 9am measurements are less than 42.292?\n",
    "df.select('air_temp_9am').na.fill(df.agg({'air_temp_9am':'min'}).collect()[0][0]) \\ \n",
    ".filter('air_temp_9am < 42.292').count()"
   ]
  },
  {
   "cell_type": "code",
   "execution_count": null,
   "metadata": {},
   "outputs": [],
   "source": [
    "#How many samples have missing values for air_pressure_9am?\n",
    "df.select([count(when(isnan('air_pressure_9am') | col('air_pressure_9am').isNull(),True))]).show()"
   ]
  },
  {
   "cell_type": "code",
   "execution_count": null,
   "metadata": {},
   "outputs": [],
   "source": [
    "#Which column in the weather dataset has the most number of missing values?\n",
    "df.select([count(when(isnan(c) | col(c).isNull(), c)).alias(c) for c in df.columns]).show()"
   ]
  },
  {
   "cell_type": "code",
   "execution_count": null,
   "metadata": {},
   "outputs": [],
   "source": []
  },
  {
   "cell_type": "code",
   "execution_count": null,
   "metadata": {},
   "outputs": [],
   "source": []
  }
 ],
 "metadata": {
  "kernelspec": {
   "display_name": "Python 3",
   "language": "python",
   "name": "python3"
  },
  "language_info": {
   "codemirror_mode": {
    "name": "ipython",
    "version": 3
   },
   "file_extension": ".py",
   "mimetype": "text/x-python",
   "name": "python",
   "nbconvert_exporter": "python",
   "pygments_lexer": "ipython3",
   "version": "3.7.6"
  }
 },
 "nbformat": 4,
 "nbformat_minor": 4
}
