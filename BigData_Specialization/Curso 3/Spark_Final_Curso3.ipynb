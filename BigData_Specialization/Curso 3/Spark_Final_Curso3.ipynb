{
 "cells": [
  {
   "cell_type": "code",
   "execution_count": null,
   "metadata": {},
   "outputs": [],
   "source": [
    "from pyspark.sql import SQLContext\n",
    "sqlContext = SQLContext(sc)"
   ]
  },
  {
   "cell_type": "code",
   "execution_count": null,
   "metadata": {},
   "outputs": [],
   "source": [
    "country_lines = sc.textFile('file:///home/cloudera/Downloads/big-data-3/final-project/country-list.csv')"
   ]
  },
  {
   "cell_type": "code",
   "execution_count": null,
   "metadata": {},
   "outputs": [],
   "source": [
    "# Convert each line into a pair of words\n",
    "words = country_lines.map(lambda line : line.split(','))\n",
    "words.take(3)"
   ]
  },
  {
   "cell_type": "code",
   "execution_count": null,
   "metadata": {},
   "outputs": [],
   "source": [
    "# Convert each pair of words into a tuple\n",
    "country_tuples = words.map(lambda word : (word[0],word[1]))"
   ]
  },
  {
   "cell_type": "code",
   "execution_count": null,
   "metadata": {},
   "outputs": [],
   "source": [
    "# Create the DataFrame, look at schema and contents\n",
    "from pyspark.sql.functions import lower, col\n",
    "\n",
    "countryDF = sqlContext.createDataFrame(country_tuples, [\"country\", \"code\"])\n",
    "countryDF.printSchema()\n",
    "\n",
    "countryDF = countryDF.withColumn('country', lower(col('country')))\n",
    "countryDF.show(3)"
   ]
  },
  {
   "cell_type": "code",
   "execution_count": null,
   "metadata": {},
   "outputs": [],
   "source": [
    "# Read tweets CSV file into RDD of lines\n",
    "tweet_lines = sc.textFile('file:///home/cloudera/Downloads/big-data-3/final-project/TweetExport.csv')\n",
    "tweet_lines.take(3)"
   ]
  },
  {
   "cell_type": "code",
   "execution_count": null,
   "metadata": {},
   "outputs": [],
   "source": [
    "# Clean the data: some tweets are empty. Remove the empty tweets using filter() \n",
    "tweet_words = tweet_lines.flatMap(lambda line: line.split(','))\n",
    "tweet_words = tweet_words.filter(lambda line: 'tweet_text' in line)\n",
    "#tweet_words = tweet_words.filter(lambda line: line != '')\n",
    "tweet_words = tweet_words.flatMap(lambda line: line.split('\"tweet_text\":'))\n",
    "tweet_words = tweet_words.filter(lambda line: line != '')\n",
    "tweet_words.take(5)"
   ]
  },
  {
   "cell_type": "code",
   "execution_count": null,
   "metadata": {},
   "outputs": [],
   "source": [
    "# Perform WordCount on the cleaned tweet texts. (note: this is several lines.)\n",
    "words = tweet_words.flatMap(lambda line: line.split(' '))\n",
    "words = words.filter(lambda line: line != '')\n",
    "tweet_tuples = words.map(lambda word: (word,1))\n",
    "tweet_counts = tweet_tuples.reduceByKey(lambda a,b: (a+b))\n",
    "tweet_counts.take(5)"
   ]
  },
  {
   "cell_type": "code",
   "execution_count": null,
   "metadata": {},
   "outputs": [],
   "source": [
    "# Create the DataFrame of tweet word counts\n",
    "wordDF = sqlContext.createDataFrame(tweet_counts, [\"country\", \"cuenta\"])\n",
    "wordDF.printSchema()\n",
    "\n",
    "wordDF = wordDF.withColumn('country', lower(col('country')))\n",
    "\n",
    "wordDF.show(3)"
   ]
  },
  {
   "cell_type": "code",
   "execution_count": null,
   "metadata": {},
   "outputs": [],
   "source": [
    "# Join the country and tweet data frames (on the appropriate column)\n",
    "merge = countryDF.join(wordDF, 'country')\n",
    "merge.printSchema()\n",
    "merge.show(5)"
   ]
  },
  {
   "cell_type": "code",
   "execution_count": null,
   "metadata": {},
   "outputs": [],
   "source": [
    "# Question 1: number of distinct countries mentioned\n",
    "len(merge.where('cuenta > 0').collect())"
   ]
  },
  {
   "cell_type": "code",
   "execution_count": null,
   "metadata": {},
   "outputs": [],
   "source": [
    "#Get all entries\n",
    "merge.count()"
   ]
  },
  {
   "cell_type": "code",
   "execution_count": null,
   "metadata": {},
   "outputs": [],
   "source": [
    "# Question 2: number of countries mentioned in tweets.\n",
    "from pyspark.sql.functions import sum\n",
    "merge.agg(sum(\"cuenta\")).collect()[0][0]"
   ]
  },
  {
   "cell_type": "code",
   "execution_count": null,
   "metadata": {},
   "outputs": [],
   "source": [
    "# Table 1: top three countries and their counts.\n",
    "from pyspark.sql.functions import desc\n",
    "merge.sort(desc('cuenta')).show(5)"
   ]
  },
  {
   "cell_type": "code",
   "execution_count": null,
   "metadata": {},
   "outputs": [],
   "source": [
    "# Table 2: counts for Wales, Iceland, and Japan.\n",
    "merge.where('country=\"wales\" OR country=\"kenya\" OR country=\"netherlands\"').show(3)"
   ]
  },
  {
   "cell_type": "code",
   "execution_count": null,
   "metadata": {},
   "outputs": [],
   "source": [
    "from pyspark.sql.functions import avg\n",
    "merge.agg(avg(\"cuenta\")).collect()[0][0]"
   ]
  }
 ],
 "metadata": {
  "kernelspec": {
   "display_name": "Python 3",
   "language": "python",
   "name": "python3"
  },
  "language_info": {
   "codemirror_mode": {
    "name": "ipython",
    "version": 3
   },
   "file_extension": ".py",
   "mimetype": "text/x-python",
   "name": "python",
   "nbconvert_exporter": "python",
   "pygments_lexer": "ipython3",
   "version": "3.7.6"
  }
 },
 "nbformat": 4,
 "nbformat_minor": 4
}
